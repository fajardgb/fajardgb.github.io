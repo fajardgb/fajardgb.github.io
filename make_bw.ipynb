{
 "cells": [
  {
   "cell_type": "code",
   "execution_count": 5,
   "metadata": {},
   "outputs": [],
   "source": [
    "from PIL import Image\n",
    "\n",
    "# Open the image\n",
    "image = Image.open(\"imgs/fpl2.png\")\n",
    "\n",
    "# Convert the image to RGBA mode\n",
    "image = image.convert(\"RGBA\")\n",
    "\n",
    "# Create a new image with a white background\n",
    "# background = Image.new(\"RGBA\", image.size, (255, 255, 255))\n",
    "\n",
    "# Composite the original image on the white background\n",
    "# image_with_white_bg = Image.alpha_composite(background, image)\n",
    "\n",
    "# Convert the image to grayscale\n",
    "image_bw = image.convert(\"L\")\n",
    "\n",
    "# Save the modified image\n",
    "image_bw.save(\"fpl_modified.png\")\n"
   ]
  },
  {
   "cell_type": "code",
   "execution_count": null,
   "metadata": {},
   "outputs": [],
   "source": []
  }
 ],
 "metadata": {
  "kernelspec": {
   "display_name": "base",
   "language": "python",
   "name": "python3"
  },
  "language_info": {
   "codemirror_mode": {
    "name": "ipython",
    "version": 3
   },
   "file_extension": ".py",
   "mimetype": "text/x-python",
   "name": "python",
   "nbconvert_exporter": "python",
   "pygments_lexer": "ipython3",
   "version": "3.9.12"
  }
 },
 "nbformat": 4,
 "nbformat_minor": 2
}
